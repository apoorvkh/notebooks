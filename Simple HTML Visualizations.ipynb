{
  "nbformat": 4,
  "nbformat_minor": 0,
  "metadata": {
    "colab": {
      "name": "Simple HTML Visualizations.ipynb",
      "provenance": [],
      "authorship_tag": "ABX9TyNEEDrAxBxQuldLbfcKguMw",
      "include_colab_link": true
    },
    "kernelspec": {
      "name": "python3",
      "display_name": "Python 3"
    }
  },
  "cells": [
    {
      "cell_type": "markdown",
      "metadata": {
        "id": "view-in-github",
        "colab_type": "text"
      },
      "source": [
        "<a href=\"https://colab.research.google.com/github/apoorvkh/notebooks/blob/main/Simple%20HTML%20Visualizations.ipynb\" target=\"_parent\"><img src=\"https://colab.research.google.com/assets/colab-badge.svg\" alt=\"Open In Colab\"/></a>"
      ]
    },
    {
      "cell_type": "code",
      "metadata": {
        "id": "XvFlVRY7-jit"
      },
      "source": [
        "# Python 2\n",
        "from __future__ import with_statement\n",
        "from __future__ import print_function"
      ],
      "execution_count": 1,
      "outputs": []
    },
    {
      "cell_type": "code",
      "metadata": {
        "id": "3w5OesUSL6Yf"
      },
      "source": [
        "from base64 import b64encode"
      ],
      "execution_count": 2,
      "outputs": []
    },
    {
      "cell_type": "code",
      "metadata": {
        "id": "SqVHyajv-IY7"
      },
      "source": [
        "class html_vis:\n",
        "    def __init__(self, html_path):\n",
        "        self.html_path = html_path\n",
        "    def __enter__(self):\n",
        "        self.html_file = open(self.html_path, 'w')\n",
        "        self.write('<head><meta charset=\"UTF-8\"></head>')\n",
        "        return self\n",
        "    def __exit__(self, type, value, tb):\n",
        "        self.html_file.close()\n",
        "\n",
        "    def write(self, data): print(data, file=self.html_file)\n",
        "\n",
        "    def bold(self, data): self.write('<b>' + data + '</br>')\n",
        "\n",
        "    def newline(self, n=1): self.write('<br>' * n)\n",
        "\n",
        "    def hline(self): self.write('<hr>')\n",
        "\n",
        "    def write_image(self, image_path):\n",
        "        img = b64encode(open(image_path, 'rb').read()).decode('utf-8')\n",
        "        self.write('<img src=\"data:image/png;base64,{0}\">'.format(img))"
      ],
      "execution_count": 3,
      "outputs": []
    },
    {
      "cell_type": "code",
      "metadata": {
        "id": "7CfSq5xGLwDy"
      },
      "source": [
        "# Example\n",
        "\n",
        "with html_vis('visualization.html') as html_file:\n",
        "    html_file.write('Hello World')\n",
        "    html_file.newline()\n",
        "    html_file.write_image(\"./image.jpg\")\n",
        "    html_file.hline()\n",
        "    html_file.bold('Second Line')"
      ],
      "execution_count": 4,
      "outputs": []
    }
  ]
}
