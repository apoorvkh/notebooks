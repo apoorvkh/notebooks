{
  "nbformat": 4,
  "nbformat_minor": 0,
  "metadata": {
    "colab": {
      "name": "Downloading from Google Drive.ipynb",
      "provenance": [],
      "toc_visible": true,
      "authorship_tag": "ABX9TyPM51s/+Bw8iNZcdyd1IBnT",
      "include_colab_link": true
    },
    "kernelspec": {
      "name": "python3",
      "display_name": "Python 3"
    }
  },
  "cells": [
    {
      "cell_type": "markdown",
      "metadata": {
        "id": "view-in-github",
        "colab_type": "text"
      },
      "source": [
        "<a href=\"https://colab.research.google.com/github/apoorvkh/notebooks/blob/main/Downloading from Google Drive.ipynb\" target=\"_parent\"><img src=\"https://colab.research.google.com/assets/colab-badge.svg\" alt=\"Open In Colab\"/></a>"
      ]
    },
    {
      "cell_type": "markdown",
      "metadata": {
        "id": "OvJA3M_U2hT6"
      },
      "source": [
        "# Python"
      ]
    },
    {
      "cell_type": "code",
      "metadata": {
        "id": "ImXAvFRw1zPr"
      },
      "source": [
        "import requests"
      ],
      "execution_count": 1,
      "outputs": []
    },
    {
      "cell_type": "code",
      "metadata": {
        "id": "Nne20Jv-1lBa"
      },
      "source": [
        "def download(file_id, dst_path):\n",
        "    URL = \"https://docs.google.com/uc?export=download\"\n",
        "    session = requests.Session()\n",
        "    response = session.get(URL, params = { 'id' : file_id }, stream = True)\n",
        "\n",
        "    for key, value in response.cookies.items():\n",
        "        if key.startswith('download_warning'):\n",
        "            params = { 'id' : file_id, 'confirm' : value }\n",
        "            response = session.get(URL, params = params, stream = True)\n",
        "            break\n",
        "\n",
        "    with open(dst_path, \"wb\") as f:\n",
        "        for chunk in response.iter_content(32768):\n",
        "            if chunk:\n",
        "                f.write(chunk)"
      ],
      "execution_count": 2,
      "outputs": []
    },
    {
      "cell_type": "markdown",
      "metadata": {
        "id": "tLbR3D-i2rjk"
      },
      "source": [
        "# Bash"
      ]
    },
    {
      "cell_type": "code",
      "metadata": {
        "id": "ztKijYr06fQw"
      },
      "source": [
        "%%bash\n",
        "\n",
        "gdrive_download() {\n",
        "    curl -c ./cookie.tmp -s -L \"https://drive.google.com/uc?export=download&id=$1\" > /dev/null\n",
        "    curl -Lb ./cookie.tmp \"https://drive.google.com/uc?export=download&confirm=`awk '/download/ {print $NF}' ./cookie.tmp`&id=$1\" -o \"$2\"\n",
        "    rm ./cookie.tmp\n",
        "}\n",
        "\n",
        "# Usage:\n",
        "# gdrive_download file_id dst_path"
      ],
      "execution_count": 3,
      "outputs": []
    }
  ]
}
