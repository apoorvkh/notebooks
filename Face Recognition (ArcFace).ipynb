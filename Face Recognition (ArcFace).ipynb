{
  "nbformat": 4,
  "nbformat_minor": 0,
  "metadata": {
    "colab": {
      "name": "Face Recognition (ArcFace).ipynb",
      "provenance": [],
      "authorship_tag": "ABX9TyME9fScCh8kmhCWhoRtc0co",
      "include_colab_link": true
    },
    "kernelspec": {
      "name": "python3",
      "display_name": "Python 3"
    }
  },
  "cells": [
    {
      "cell_type": "markdown",
      "metadata": {
        "id": "view-in-github",
        "colab_type": "text"
      },
      "source": [
        "<a href=\"https://colab.research.google.com/github/apoorvkh/notebooks/blob/main/Face%20Recognition%20(ArcFace).ipynb\" target=\"_parent\"><img src=\"https://colab.research.google.com/assets/colab-badge.svg\" alt=\"Open In Colab\"/></a>"
      ]
    },
    {
      "cell_type": "markdown",
      "metadata": {
        "id": "RowuK59xCON3"
      },
      "source": [
        "# Installation"
      ]
    },
    {
      "cell_type": "code",
      "metadata": {
        "id": "m6eBs8s19zPD"
      },
      "source": [
        "%%bash\n",
        "git clone https://github.com/peteryuX/arcface-tf2.git arcface\n",
        "pip install -r arcface/requirements.txt"
      ],
      "execution_count": null,
      "outputs": []
    },
    {
      "cell_type": "code",
      "metadata": {
        "id": "u8te0Z0u-IGu"
      },
      "source": [
        "import requests\n",
        "import zipfile\n",
        "\n",
        "def download(file_id, dst_path):\n",
        "    URL = \"https://docs.google.com/uc?export=download\"\n",
        "    session = requests.Session()\n",
        "    response = session.get(URL, params = { 'id' : file_id }, stream = True)\n",
        "\n",
        "    for key, value in response.cookies.items():\n",
        "        if key.startswith('download_warning'):\n",
        "            params = { 'id' : file_id, 'confirm' : value }\n",
        "            response = session.get(URL, params = params, stream = True)\n",
        "            break\n",
        "\n",
        "    with open(dst_path, \"wb\") as f:\n",
        "        for chunk in response.iter_content(32768):\n",
        "            if chunk:\n",
        "                f.write(chunk)\n",
        "\n",
        "download('1HasWQb86s4xSYy36YbmhRELg9LBmvhvt', 'arc_res50.zip')\n",
        "with zipfile.ZipFile('arc_res50.zip', 'r') as zip_ref:\n",
        "    zip_ref.extractall('checkpoints')\n",
        "!rm arc_res50.zip"
      ],
      "execution_count": 2,
      "outputs": []
    },
    {
      "cell_type": "markdown",
      "metadata": {
        "id": "Vw2vmhfXCR4c"
      },
      "source": [
        "# Loading model"
      ]
    },
    {
      "cell_type": "code",
      "metadata": {
        "id": "RTwIPcQACfbO",
        "colab": {
          "base_uri": "https://localhost:8080/"
        },
        "outputId": "2e5cc84a-693b-42ff-c07c-b5c04e6b8ed4"
      },
      "source": [
        "import tensorflow as tf\n",
        "import numpy as np\n",
        "import cv2\n",
        "from arcface.modules.models import ArcFaceModel\n",
        "from arcface.modules.utils import set_memory_growth, l2_norm\n",
        "\n",
        "set_memory_growth()\n",
        "\n",
        "model = ArcFaceModel(size=112, backbone_type='ResNet50', training=False)\n",
        "model.load_weights('./checkpoints/arc_res50/e_8_b_40000.ckpt')\n",
        "\n",
        "def preprocess_img(img):\n",
        "    img = cv2.resize(img, (112, 112))\n",
        "    img = img.astype(np.float32) / 255.\n",
        "    if len(img.shape) == 3:\n",
        "        img = np.expand_dims(img, 0)\n",
        "    return img\n",
        "\n",
        "# Input: BGR image as np array\n",
        "def compute_embeddings(img):\n",
        "    img = preprocess_img(img)\n",
        "    emb = l2_norm(model(img))\n",
        "    return emb"
      ],
      "execution_count": 3,
      "outputs": [
        {
          "output_type": "stream",
          "text": [
            "Downloading data from https://github.com/keras-team/keras-applications/releases/download/resnet/resnet50_weights_tf_dim_ordering_tf_kernels_notop.h5\n",
            "94773248/94765736 [==============================] - 7s 0us/step\n"
          ],
          "name": "stdout"
        }
      ]
    },
    {
      "cell_type": "markdown",
      "metadata": {
        "id": "GnQPvjygK2jL"
      },
      "source": [
        "# Inference"
      ]
    },
    {
      "cell_type": "code",
      "metadata": {
        "colab": {
          "base_uri": "https://localhost:8080/"
        },
        "id": "YXuA9UaYJ9dc",
        "outputId": "ae4c4058-0034-4d1c-a7fd-fd126e09f573"
      },
      "source": [
        "img = cv2.imread('arcface/data/BruceLee.jpg')\n",
        "embedding = compute_embeddings(img)\n",
        "\n",
        "print(embedding.shape)"
      ],
      "execution_count": 4,
      "outputs": [
        {
          "output_type": "stream",
          "text": [
            "(1, 512)\n"
          ],
          "name": "stdout"
        }
      ]
    }
  ]
}