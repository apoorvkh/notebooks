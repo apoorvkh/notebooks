{
  "nbformat": 4,
  "nbformat_minor": 0,
  "metadata": {
    "colab": {
      "name": "Face Recognition (ArcFace).ipynb",
      "provenance": [],
      "authorship_tag": "ABX9TyP/rgkMRPcE/4JB5hFf0xRt",
      "include_colab_link": true
    },
    "kernelspec": {
      "name": "python3",
      "display_name": "Python 3"
    }
  },
  "cells": [
    {
      "cell_type": "markdown",
      "metadata": {
        "id": "view-in-github",
        "colab_type": "text"
      },
      "source": [
        "<a href=\"https://colab.research.google.com/github/apoorvkh/notebooks/blob/main/Face%20Recognition%20(ArcFace).ipynb\" target=\"_parent\"><img src=\"https://colab.research.google.com/assets/colab-badge.svg\" alt=\"Open In Colab\"/></a>"
      ]
    },
    {
      "cell_type": "markdown",
      "metadata": {
        "id": "RowuK59xCON3"
      },
      "source": [
        "# Installation"
      ]
    },
    {
      "cell_type": "code",
      "metadata": {
        "id": "m6eBs8s19zPD"
      },
      "source": [
        "%%bash\n",
        "git clone https://github.com/peteryuX/arcface-tf2.git arcface\n",
        "pip install -r arcface/requirements.txt"
      ],
      "execution_count": null,
      "outputs": []
    },
    {
      "cell_type": "code",
      "metadata": {
        "id": "u8te0Z0u-IGu"
      },
      "source": [
        "import requests\n",
        "import zipfile\n",
        "\n",
        "def download(file_id, dst_path):\n",
        "    URL = \"https://docs.google.com/uc?export=download\"\n",
        "    session = requests.Session()\n",
        "    response = session.get(URL, params = { 'id' : file_id }, stream = True)\n",
        "\n",
        "    for key, value in response.cookies.items():\n",
        "        if key.startswith('download_warning'):\n",
        "            params = { 'id' : file_id, 'confirm' : value }\n",
        "            response = session.get(URL, params = params, stream = True)\n",
        "            break\n",
        "\n",
        "    with open(dst_path, \"wb\") as f:\n",
        "        for chunk in response.iter_content(32768):\n",
        "            if chunk:\n",
        "                f.write(chunk)\n",
        "\n",
        "download('1HasWQb86s4xSYy36YbmhRELg9LBmvhvt', 'arc_res50.zip')\n",
        "with zipfile.ZipFile('arc_res50.zip', 'r') as zip_ref:\n",
        "    zip_ref.extractall('checkpoints')\n",
        "!rm arc_res50.zip"
      ],
      "execution_count": 4,
      "outputs": []
    },
    {
      "cell_type": "markdown",
      "metadata": {
        "id": "Vw2vmhfXCR4c"
      },
      "source": [
        "# Loading model"
      ]
    },
    {
      "cell_type": "code",
      "metadata": {
        "id": "_QLE9X8dVM24"
      },
      "source": [
        "from arcface.modules.models import ArcFaceModel\n",
        "from arcface.modules.utils import set_memory_growth, l2_norm\n",
        "from skimage.transform import SimilarityTransform\n",
        "import numpy as np\n",
        "import tensorflow as tf\n",
        "import cv2"
      ],
      "execution_count": 5,
      "outputs": []
    },
    {
      "cell_type": "code",
      "metadata": {
        "id": "RTwIPcQACfbO",
        "colab": {
          "base_uri": "https://localhost:8080/"
        },
        "outputId": "18f85e6f-b036-44d0-d8b7-cc2d2773d312"
      },
      "source": [
        "set_memory_growth()\n",
        "\n",
        "model = ArcFaceModel(size=112, backbone_type='ResNet50', training=False)\n",
        "model.load_weights('./checkpoints/arc_res50/e_8_b_40000.ckpt')\n",
        "\n",
        "CROP_SIZE = (112, 112)\n",
        "\n",
        "reference_pts = np.float32(np.array([\n",
        "    [0.341916, 0.4615741],  # left eye\n",
        "    [0.656533, 0.4598339],  # right eye\n",
        "    [0.500225, 0.6405054],  # nose\n",
        "    [0.370975, 0.8246919],  # left mouth\n",
        "    [0.631516, 0.8232509]   # right mouth\n",
        "]) * CROP_SIZE)\n",
        "\n",
        "def warp_to_face(img, face_pts):\n",
        "    tform = SimilarityTransform()\n",
        "    tform.estimate(face_pts, reference_pts)\n",
        "    T = tform.params[:2]\n",
        "    return cv2.warpAffine(img, T, CROP_SIZE)\n",
        "\n",
        "def preprocess_image(img, face_pts):\n",
        "    face = warp_to_face(img, face_pts)\n",
        "    face = face.astype(np.float32) / 255.\n",
        "    if len(face.shape) == 3:\n",
        "        face = np.expand_dims(face, 0)\n",
        "    return face\n",
        "\n",
        "# Input: BGR image as np array\n",
        "def compute_embeddings(img, face_pts):\n",
        "    img = preprocess_image(img, face_pts)\n",
        "    emb = l2_norm(model(img))\n",
        "    return emb"
      ],
      "execution_count": 6,
      "outputs": [
        {
          "output_type": "stream",
          "text": [
            "Downloading data from https://storage.googleapis.com/tensorflow/keras-applications/resnet/resnet50_weights_tf_dim_ordering_tf_kernels_notop.h5\n",
            "94773248/94765736 [==============================] - 1s 0us/step\n"
          ],
          "name": "stdout"
        }
      ]
    },
    {
      "cell_type": "markdown",
      "metadata": {
        "id": "GnQPvjygK2jL"
      },
      "source": [
        "# Inference"
      ]
    },
    {
      "cell_type": "code",
      "metadata": {
        "colab": {
          "base_uri": "https://localhost:8080/"
        },
        "id": "YXuA9UaYJ9dc",
        "outputId": "1840e11f-14d9-4947-da22-339e365beaca"
      },
      "source": [
        "img = cv2.imread('arcface/data/BruceLee.jpg')\n",
        "face_pts = reference_pts # placeholder\n",
        "embedding = compute_embeddings(img, face_pts)\n",
        "\n",
        "print(embedding.shape)"
      ],
      "execution_count": 8,
      "outputs": [
        {
          "output_type": "stream",
          "text": [
            "(1, 512)\n"
          ],
          "name": "stdout"
        }
      ]
    }
  ]
}