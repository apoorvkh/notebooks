{
  "nbformat": 4,
  "nbformat_minor": 0,
  "metadata": {
    "colab": {
      "name": "Face Recognition (ArcFace).ipynb",
      "provenance": [],
      "authorship_tag": "ABX9TyNsifc8cHE/HXIUWgu8AFti",
      "include_colab_link": true
    },
    "kernelspec": {
      "name": "python3",
      "display_name": "Python 3"
    }
  },
  "cells": [
    {
      "cell_type": "markdown",
      "metadata": {
        "id": "view-in-github",
        "colab_type": "text"
      },
      "source": [
        "<a href=\"https://colab.research.google.com/github/apoorvkh/notebooks/blob/main/Face%20Recognition%20(ArcFace).ipynb\" target=\"_parent\"><img src=\"https://colab.research.google.com/assets/colab-badge.svg\" alt=\"Open In Colab\"/></a>"
      ]
    },
    {
      "cell_type": "markdown",
      "metadata": {
        "id": "RowuK59xCON3"
      },
      "source": [
        "# Installation"
      ]
    },
    {
      "cell_type": "code",
      "metadata": {
        "id": "m6eBs8s19zPD"
      },
      "source": [
        "%%bash\n",
        "git clone https://github.com/peteryuX/arcface-tf2.git arcface\n",
        "pip install -r arcface/requirements.txt"
      ],
      "execution_count": null,
      "outputs": []
    },
    {
      "cell_type": "code",
      "metadata": {
        "id": "u8te0Z0u-IGu"
      },
      "source": [
        "import requests\n",
        "import zipfile\n",
        "\n",
        "def download(file_id, dst_path):\n",
        "    URL = \"https://docs.google.com/uc?export=download\"\n",
        "    session = requests.Session()\n",
        "    response = session.get(URL, params = { 'id' : file_id }, stream = True)\n",
        "\n",
        "    for key, value in response.cookies.items():\n",
        "        if key.startswith('download_warning'):\n",
        "            params = { 'id' : file_id, 'confirm' : value }\n",
        "            response = session.get(URL, params = params, stream = True)\n",
        "            break\n",
        "\n",
        "    with open(dst_path, \"wb\") as f:\n",
        "        for chunk in response.iter_content(32768):\n",
        "            if chunk:\n",
        "                f.write(chunk)\n",
        "\n",
        "download('1HasWQb86s4xSYy36YbmhRELg9LBmvhvt', 'arc_res50.zip')\n",
        "with zipfile.ZipFile('arc_res50.zip', 'r') as zip_ref:\n",
        "    zip_ref.extractall('checkpoints')\n",
        "!rm arc_res50.zip"
      ],
      "execution_count": 2,
      "outputs": []
    },
    {
      "cell_type": "markdown",
      "metadata": {
        "id": "Vw2vmhfXCR4c"
      },
      "source": [
        "# Loading model"
      ]
    },
    {
      "cell_type": "code",
      "metadata": {
        "id": "_QLE9X8dVM24"
      },
      "source": [
        "from arcface.modules.models import ArcFaceModel\n",
        "from arcface.modules.utils import set_memory_growth, l2_norm\n",
        "from skimage.transform import SimilarityTransform\n",
        "import numpy as np\n",
        "import tensorflow as tf\n",
        "import cv2"
      ],
      "execution_count": 3,
      "outputs": []
    },
    {
      "cell_type": "code",
      "metadata": {
        "id": "RTwIPcQACfbO"
      },
      "source": [
        "set_memory_growth()\n",
        "\n",
        "model = ArcFaceModel(size=112, backbone_type='ResNet50', training=False)\n",
        "model.load_weights('./checkpoints/arc_res50/e_8_b_40000.ckpt')\n",
        "\n",
        "CROP_SIZE = (112, 112)\n",
        "\n",
        "reference_pts = np.float32(np.array([\n",
        "    [0.341916, 0.4615741],  # left eye\n",
        "    [0.656533, 0.4598339],  # right eye\n",
        "    [0.500225, 0.6405054],  # nose\n",
        "    [0.370975, 0.8246919],  # left mouth\n",
        "    [0.631516, 0.8232509]   # right mouth\n",
        "]) * CROP_SIZE)\n",
        "\n",
        "def warp_to_face(img, face_pts):\n",
        "    tform = SimilarityTransform()\n",
        "    tform.estimate(face_pts, reference_pts)\n",
        "    T = tform.params[:2]\n",
        "    return cv2.warpAffine(img, T, CROP_SIZE)\n",
        "\n",
        "# img : H x W x 3  matrix(BGR, np.uint8)\n",
        "# face_pts : List of 5 x 2 matrices (np.float32)\n",
        "def compute_embeddings(img, face_pts):\n",
        "    faces = [warp_to_face(img, pts) for pts in face_pts]\n",
        "    faces = np.float32(faces) / 255.\n",
        "    emb = l2_norm(model(faces))\n",
        "    return emb"
      ],
      "execution_count": 10,
      "outputs": []
    },
    {
      "cell_type": "markdown",
      "metadata": {
        "id": "GnQPvjygK2jL"
      },
      "source": [
        "# Inference"
      ]
    },
    {
      "cell_type": "code",
      "metadata": {
        "colab": {
          "base_uri": "https://localhost:8080/"
        },
        "id": "YXuA9UaYJ9dc",
        "outputId": "41a205e2-156f-42d4-ac2b-3cb6dc51b167"
      },
      "source": [
        "img = cv2.imread('arcface/data/BruceLee.jpg')\n",
        "face_pts = [reference_pts, reference_pts] # placeholder\n",
        "\n",
        "embedding = compute_embeddings(img, face_pts)\n",
        "\n",
        "print(embedding.shape)"
      ],
      "execution_count": 11,
      "outputs": [
        {
          "output_type": "stream",
          "text": [
            "(2, 512)\n"
          ],
          "name": "stdout"
        }
      ]
    }
  ]
}